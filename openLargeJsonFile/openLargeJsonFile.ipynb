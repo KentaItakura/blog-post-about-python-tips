{
 "cells": [
  {
   "cell_type": "markdown",
   "id": "4e02935a",
   "metadata": {},
   "source": [
    "# ファイルサイズの大きいJSONファイルの読み込み  \n",
    "## はじめに  \n",
    "非常に多くの行数のあるJSONファイルをPythonで読み込む方法について備忘録として残します。  \n",
    "\n",
    "以下の、izumi-lab/llm-japanese-dataset の一部を取り出して保存してみたいと思います。  \n",
    "https://huggingface.co/datasets/izumi-lab/llm-japanese-dataset  \n",
    "あらかじめ、こちらのJSONファイルををダウンロードしているとします。  \n",
    "\n",
    "また、本記事で利用したコードは以下のページにアップロードしています。  \n"
   ]
  },
  {
   "cell_type": "markdown",
   "id": "3e540ed7",
   "metadata": {},
   "source": [
    "モジュールのインポート"
   ]
  },
  {
   "cell_type": "code",
   "execution_count": null,
   "id": "7a6d3c9f",
   "metadata": {},
   "outputs": [],
   "source": [
    "import json\n",
    "import codecs"
   ]
  },
  {
   "cell_type": "markdown",
   "id": "7bcdf252",
   "metadata": {},
   "source": [
    "ジェネレータ関数を作成する"
   ]
  },
  {
   "cell_type": "code",
   "execution_count": 1,
   "id": "14a127c9",
   "metadata": {},
   "outputs": [],
   "source": [
    "def read_json_file_in_batches(file_path, batch_size):\n",
    "    with open(file_path, 'r', encoding='utf-8') as file:\n",
    "        batch = []\n",
    "        for line in file:\n",
    "            batch.append(json.loads(line))\n",
    "            if len(batch) == batch_size:\n",
    "                yield batch\n",
    "                batch = []\n",
    "        if batch:\n",
    "            yield batch"
   ]
  },
  {
   "cell_type": "markdown",
   "id": "975c77da",
   "metadata": {},
   "source": [
    "保存するファイル名を指定する"
   ]
  },
  {
   "cell_type": "code",
   "execution_count": 17,
   "id": "22cc08b4",
   "metadata": {},
   "outputs": [],
   "source": [
    "output_file_path = 'file.json'"
   ]
  },
  {
   "cell_type": "code",
   "execution_count": 37,
   "id": "eacea62c",
   "metadata": {},
   "outputs": [
    {
     "name": "stdout",
     "output_type": "stream",
     "text": [
      "eigo\n",
      "{'instruction': '次の日本語を英語に翻訳してください。', 'input': 'あなたは戻ったのね ハロルド?', 'output': \"you are back, aren't you, harold?\"}\n",
      "BREAK\n"
     ]
    }
   ],
   "source": [
    "          \n",
    "            \n",
    "flag = False\n",
    "file_path = 'alpaca_data_cleaned.json'\n",
    "batch_size = 1\n",
    "search_string = \"次の日本語を英語に翻訳してください\"\n",
    "listA = []\n",
    "for json_batch in read_json_file_in_batches(file_path, batch_size):\n",
    "    # json_batchは最大で1000行のJSONオブジェクトを含むリストです\n",
    "    for json_object in json_batch:\n",
    "        # 指定した文字列が含まれるか判定する\n",
    "        if any(search_string in value for value in json_object.values())==True:\n",
    "            print('指定した文字列が含まれます')\n",
    "            print(json_object)\n",
    "            flag = True\n",
    "            print('BREAK')\n",
    "            break\n",
    "        # リストに文章を追加していく\n",
    "        listA.append(json_object)\n",
    "        # 指定した文列が含まれていた場合ループから抜け出す\n",
    "        if flag:\n",
    "            break\n",
    "    # 指定した文列が含まれていた場合ループから抜け出す\n",
    "    if flag:\n",
    "        break"
   ]
  },
  {
   "cell_type": "code",
   "execution_count": 38,
   "id": "daba66a7",
   "metadata": {},
   "outputs": [],
   "source": [
    "\n",
    "fw = codecs.open(output_file_path , 'w', 'utf-8')\n",
    "json.dump(listA, fw, ensure_ascii=False, indent=0)\n",
    "# 書き込みオブジェクトを閉じる\n",
    "fw.close()"
   ]
  },
  {
   "cell_type": "code",
   "execution_count": null,
   "id": "4bb6a291",
   "metadata": {},
   "outputs": [],
   "source": []
  }
 ],
 "metadata": {
  "kernelspec": {
   "display_name": "Python 3 (ipykernel)",
   "language": "python",
   "name": "python3"
  },
  "language_info": {
   "codemirror_mode": {
    "name": "ipython",
    "version": 3
   },
   "file_extension": ".py",
   "mimetype": "text/x-python",
   "name": "python",
   "nbconvert_exporter": "python",
   "pygments_lexer": "ipython3",
   "version": "3.7.13"
  },
  "varInspector": {
   "cols": {
    "lenName": 16,
    "lenType": 16,
    "lenVar": 40
   },
   "kernels_config": {
    "python": {
     "delete_cmd_postfix": "",
     "delete_cmd_prefix": "del ",
     "library": "var_list.py",
     "varRefreshCmd": "print(var_dic_list())"
    },
    "r": {
     "delete_cmd_postfix": ") ",
     "delete_cmd_prefix": "rm(",
     "library": "var_list.r",
     "varRefreshCmd": "cat(var_dic_list()) "
    }
   },
   "types_to_exclude": [
    "module",
    "function",
    "builtin_function_or_method",
    "instance",
    "_Feature"
   ],
   "window_display": false
  }
 },
 "nbformat": 4,
 "nbformat_minor": 5
}
