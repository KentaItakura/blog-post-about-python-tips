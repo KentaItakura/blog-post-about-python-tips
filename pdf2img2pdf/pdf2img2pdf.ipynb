{
 "cells": [
  {
   "cell_type": "markdown",
   "id": "3fa8dff8",
   "metadata": {},
   "source": [
    "# PythonからPDFを画像に変換＆画像からPDFに変換する方法のメモ  \n",
    "この記事では、Pythonを用いて、PDFファイルを読み込んで、画像に変換すること、さらに、画像からPDFに変換する方法について調べたのでメモとして残したいと思います。  \n",
    "　ここでのスクリプトで特定のことをしたいわけではなく、Pythonを用いたPDFの読み込み、書き込みの経験がなかったので練習をしたいと思いました。大量のPDFの処理の用事などができたら、今後利活用できたらよいなと考えています。ここでの内容は、  \n",
    "- PDFを画像に変換して、各種端末で見やすくする  \n",
    "- 大量の画像を一気にPDF化して保存する  \n",
    "といったことにつながるのではないかと考えられます。このほかにも、皆様の役に立てば幸いです。"
   ]
  },
  {
   "cell_type": "markdown",
   "id": "a94e3444",
   "metadata": {},
   "source": [
    "# 1. PDFを扱うことのできるPythonライブラリーについて  \n",
    "- PyPDF2  \n",
    "https://www.shibutan-bloomers.com/python_library_pypdf2/2157/  \n",
    "- PDFMiner  \n",
    "https://liquidjumper.com/programming/python/python_pdf_import_text_pdfminer  \n",
    "- pdf2image  \n",
    "https://laboratory.kazuuu.net/convert-a-pdf-file-to-an-image-using-pdf2image-in-python/  \n",
    "- img2pdf  \n",
    "https://self-development.info/%E3%80%90python%E3%80%91%E5%86%99%E7%9C%9F%EF%BC%88%E7%94%BB%E5%83%8F%EF%BC%89%E3%82%92pdf%E5%8C%96%E3%81%99%E3%82%8Bimg2pdf%E3%81%AE%E3%82%A4%E3%83%B3%E3%82%B9%E3%83%88%E3%83%BC%E3%83%AB/  \n",
    "\n",
    "などがあるようです。また、PyPDF2よりも、PDFMinerをおすすめする記事もありました。  \n",
    "https://self-development.info/%E3%80%90python%E3%80%91pypdf2%E3%81%A7%E3%81%AF%E3%81%AA%E3%81%8Fpdfminer%E3%82%92%E4%BD%BF%E3%81%84%E3%81%BE%E3%81%97%E3%82%87%E3%81%86/  \n",
    "\n",
    "ここでは、pdf2image, img2pdfを用いて、PDFの読み込みや画像への変換、そして、その画像を拡大してからPDFへの変換などを行っていきたいと思います。  \n",
    "  \n",
    "さっそく、以下に、今回用いたPythonコードを記載していきます。"
   ]
  },
  {
   "cell_type": "markdown",
   "id": "cd7b63e7",
   "metadata": {},
   "source": [
    "# 2. Pythonコード  \n",
    "## 2.1. 準備  \n",
    "同じディレクトリに、`data`というフォルダを用意してください。参考のために、練習用ファイルを以下のURLにアップロードしています。  \n",
    "https://github.com/KentaItakura/blog-post-about-python-tips/tree/main/pdf2img2pdf"
   ]
  },
  {
   "cell_type": "markdown",
   "id": "308ac561",
   "metadata": {},
   "source": [
    "## 2.2. モジュールの読み込み  \n",
    "あらかじめ、`PIL`や`img2pdf`, `pdf2image`などのモジュールをインストールしておいてください。"
   ]
  },
  {
   "cell_type": "code",
   "execution_count": 1,
   "id": "673ed447",
   "metadata": {},
   "outputs": [],
   "source": [
    "#from pathlib import Path\n",
    "from pdf2image import convert_from_path\n",
    "from PIL import Image, ImageDraw, ImageFilter\n",
    "import os\n",
    "import glob\n",
    "import img2pdf"
   ]
  },
  {
   "cell_type": "markdown",
   "id": "81aa580b",
   "metadata": {},
   "source": [
    "## 2.3. PDFファイルの確認"
   ]
  },
  {
   "cell_type": "code",
   "execution_count": 2,
   "id": "ee9a0d45",
   "metadata": {},
   "outputs": [
    {
     "name": "stdout",
     "output_type": "stream",
     "text": [
      "==========\n",
      "Does the output path for img exist?\n",
      "True\n",
      "==========\n",
      "Does the output path for pdf exist?\n",
      "True\n"
     ]
    }
   ],
   "source": [
    "# PDFから画像に変換したものを拡大するときのパラメータ。参考程度にお使いください。  \n",
    "fx = 1.2\n",
    "fy = 1.2\n",
    "\n",
    "# PDFファイルのパスを参照する\n",
    "pdf_data = glob.glob('./data/*.pdf')\n",
    "\n",
    "# 一度書き出す画像はimageというフォルダ、最終的な出力はfinalOutputというフォルダに格納します。まだ作成していない場合、自動的にそのフォルダを作成します\n",
    "img_path = './image'\n",
    "out_path = './finalOutput'\n",
    "print('==========')\n",
    "print('Does the output path for img exist?')\n",
    "print(os.path.exists(img_path))\n",
    "# 画像を格納するフォルダがあるかどうか確認する\n",
    "if os.path.exists(img_path)==False:\n",
    "    os.mkdir(img_path)\n",
    "    print('ouput folder for img created')\n",
    "\n",
    "print('==========')\n",
    "print('Does the output path for pdf exist?')\n",
    "print(os.path.exists(out_path))\n",
    "# PDFを格納するフォルダがあるかどうか確認する\n",
    "if os.path.exists(out_path)==False:\n",
    "    os.mkdir(out_path)\n",
    "    print('ouput folder created')"
   ]
  },
  {
   "cell_type": "markdown",
   "id": "a6a5470a",
   "metadata": {},
   "source": [
    "## 2.4. convert_from_pathを用いて、PDFから画像に変換する"
   ]
  },
  {
   "cell_type": "code",
   "execution_count": 3,
   "id": "b6b197e2",
   "metadata": {},
   "outputs": [
    {
     "name": "stdout",
     "output_type": "stream",
     "text": [
      "0-th data is being processed. Target file is ./data\\test1.pdf\n",
      "Done!\n",
      "1-th data is being processed. Target file is ./data\\test2.pdf\n",
      "Done!\n",
      "2-th data is being processed. Target file is ./data\\test3.pdf\n",
      "Done!\n",
      "All pdf files have been converted into images\n"
     ]
    }
   ],
   "source": [
    "for i in range(len(pdf_data)):\n",
    "    print(str(i)+'-th data is being processed. Target file is '+pdf_data[i])\n",
    "    #この1文で変換されたjpegファイルが、imageホルダー内に作られます。\n",
    "    basename = os.path.basename(pdf_data[i])\n",
    "    file_name = os.path.splitext(basename)[0]\n",
    "    # PDFが2ページ以上ある場合は、single_file=Falseとする\n",
    "    convert_from_path(pdf_data[i], output_folder=img_path,fmt='png',output_file=file_name,single_file=True)\n",
    "    print('Done!')\n",
    "\n",
    "print('All pdf files have been converted into images')"
   ]
  },
  {
   "cell_type": "markdown",
   "id": "86896361",
   "metadata": {},
   "source": [
    "## 2.5. 画像を拡大し、PDFに変換する"
   ]
  },
  {
   "cell_type": "code",
   "execution_count": 4,
   "id": "37887c41",
   "metadata": {},
   "outputs": [
    {
     "name": "stdout",
     "output_type": "stream",
     "text": [
      "==========\n",
      "0-th data is being processed. Target file is ./image\\test1.png\n",
      "test1\n",
      "Output file name is \n",
      "./finalOutput\\test1_enlarged.pdf\n",
      "==========\n",
      "1-th data is being processed. Target file is ./image\\test2.png\n",
      "test2\n",
      "Output file name is \n",
      "./finalOutput\\test2_enlarged.pdf\n",
      "==========\n",
      "2-th data is being processed. Target file is ./image\\test3.png\n",
      "test3\n",
      "Output file name is \n",
      "./finalOutput\\test3_enlarged.pdf\n",
      "==========\n",
      "Good job! All steps are finished!!\n",
      "==========\n"
     ]
    }
   ],
   "source": [
    "dir_path = './image/'\n",
    "png_data = glob.glob(os.path.join(dir_path,'*.png'))\n",
    "\n",
    "for i in range(len(png_data)):\n",
    "    print('==========')\n",
    "    print(str(i)+'-th data is being processed. Target file is '+png_data[i])\n",
    "    img = Image.open(png_data[0])\n",
    "    size = (round(img.width * fx), round(img.height * fy))\n",
    "    outsize = (img2pdf.mm_to_pt(round(img.width * fx)),img2pdf.mm_to_pt(round(img.height * fy)))\n",
    "    layout_fun = img2pdf.get_layout_fun(outsize)\n",
    "    \n",
    "    basename = os.path.basename(png_data[i])\n",
    "    file_name = os.path.splitext(basename)[0]\n",
    "    print(file_name)\n",
    "    file_name_pdf_out = out_path+os.path.sep+file_name+'_enlarged.pdf'\n",
    "    \n",
    "    print('Output file name is ')\n",
    "    print(file_name_pdf_out)\n",
    "    \n",
    "    # 書き込み\n",
    "    with open(file_name_pdf_out, \"wb\") as f:\n",
    "        f.write(img2pdf.convert(png_data[i],layout_fun=layout_fun))\n",
    "\n",
    "print('==========')\n",
    "print('Good job! All steps are finished!!')\n",
    "print('==========')"
   ]
  },
  {
   "cell_type": "markdown",
   "id": "4a6e78bc",
   "metadata": {},
   "source": [
    "# 参考ページ  \n",
    "https://pynote.hatenablog.com/entry/pillow-resize  \n",
    "https://kapibara-sos.net/archives/866"
   ]
  }
 ],
 "metadata": {
  "kernelspec": {
   "display_name": "Python 3 (ipykernel)",
   "language": "python",
   "name": "python3"
  },
  "language_info": {
   "codemirror_mode": {
    "name": "ipython",
    "version": 3
   },
   "file_extension": ".py",
   "mimetype": "text/x-python",
   "name": "python",
   "nbconvert_exporter": "python",
   "pygments_lexer": "ipython3",
   "version": "3.7.12"
  },
  "varInspector": {
   "cols": {
    "lenName": 16,
    "lenType": "20",
    "lenVar": "28"
   },
   "kernels_config": {
    "python": {
     "delete_cmd_postfix": "",
     "delete_cmd_prefix": "del ",
     "library": "var_list.py",
     "varRefreshCmd": "print(var_dic_list())"
    },
    "r": {
     "delete_cmd_postfix": ") ",
     "delete_cmd_prefix": "rm(",
     "library": "var_list.r",
     "varRefreshCmd": "cat(var_dic_list()) "
    }
   },
   "position": {
    "height": "467.833px",
    "left": "1336.67px",
    "right": "20px",
    "top": "120px",
    "width": "350px"
   },
   "types_to_exclude": [
    "module",
    "function",
    "builtin_function_or_method",
    "instance",
    "_Feature"
   ],
   "window_display": false
  }
 },
 "nbformat": 4,
 "nbformat_minor": 5
}
