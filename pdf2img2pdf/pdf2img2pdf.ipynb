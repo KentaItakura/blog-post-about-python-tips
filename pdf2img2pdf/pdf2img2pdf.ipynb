{
 "cells": [
  {
   "cell_type": "code",
   "execution_count": 1,
   "id": "673ed447",
   "metadata": {},
   "outputs": [],
   "source": [
    "from pathlib import Path\n",
    "from pdf2image import convert_from_path\n",
    "from PIL import Image, ImageDraw, ImageFilter\n",
    "import os\n",
    "import glob\n",
    "import img2pdf"
   ]
  },
  {
   "cell_type": "code",
   "execution_count": 2,
   "id": "ee9a0d45",
   "metadata": {},
   "outputs": [],
   "source": [
    "# 指定した倍率でリサイズする。\n",
    "fx = 1.2\n",
    "fy = 1.2"
   ]
  },
  {
   "cell_type": "code",
   "execution_count": 3,
   "id": "d27aa9ef",
   "metadata": {},
   "outputs": [
    {
     "name": "stdout",
     "output_type": "stream",
     "text": [
      "==========\n",
      "Does the output path for img exist?\n",
      "True\n",
      "==========\n",
      "Does the output path for pdf exist?\n",
      "True\n"
     ]
    }
   ],
   "source": [
    "# PDFファイルのパス\n",
    "pdf_data = glob.glob('./data/*.pdf')\n",
    "img_path = './image'\n",
    "out_path = './finalOutput'\n",
    "print('==========')\n",
    "print('Does the output path for img exist?')\n",
    "print(os.path.exists(img_path))\n",
    "if os.path.exists(img_path)==False:\n",
    "    os.mkdir(img_path)\n",
    "    print('ouput folder for img created')\n",
    "\n",
    "print('==========')\n",
    "print('Does the output path for pdf exist?')\n",
    "print(os.path.exists(out_path))\n",
    "if os.path.exists(out_path)==False:\n",
    "    os.mkdir(out_path)\n",
    "    print('ouput folder created')"
   ]
  },
  {
   "cell_type": "code",
   "execution_count": 4,
   "id": "b6b197e2",
   "metadata": {},
   "outputs": [
    {
     "name": "stdout",
     "output_type": "stream",
     "text": [
      "0-th data is being processed. Target file is ./data\\test1.pdf\n",
      "Done!\n",
      "1-th data is being processed. Target file is ./data\\test2.pdf\n",
      "Done!\n",
      "2-th data is being processed. Target file is ./data\\test3.pdf\n",
      "Done!\n",
      "3-th data is being processed. Target file is ./data\\test4.pdf\n",
      "Done!\n",
      "All pdf files have been converted into images\n"
     ]
    }
   ],
   "source": [
    "for i in range(len(pdf_data)):\n",
    "    print(str(i)+'-th data is being processed. Target file is '+pdf_data[i])\n",
    "    #この1文で変換されたjpegファイルが、imageホルダー内に作られます。\n",
    "    basename = os.path.basename(pdf_data[i])\n",
    "    file_name = os.path.splitext(basename)[0]\n",
    "    # PDFが2ページ以上ある場合は、single_file=Falseとする\n",
    "    convert_from_path(pdf_data[i], output_folder=img_path,fmt='png',output_file=file_name,single_file=True)\n",
    "    print('Done!')\n",
    "\n",
    "print('All pdf files have been converted into images')"
   ]
  },
  {
   "cell_type": "code",
   "execution_count": 7,
   "id": "37887c41",
   "metadata": {},
   "outputs": [
    {
     "name": "stdout",
     "output_type": "stream",
     "text": [
      "==========\n",
      "0-th data is being processed. Target file is ./image\\test1.png\n",
      "test1\n",
      "Output file name is \n",
      "./finalOutput\\test1_enlarged.pdf\n",
      "==========\n",
      "1-th data is being processed. Target file is ./image\\test2.png\n",
      "test2\n",
      "Output file name is \n",
      "./finalOutput\\test2_enlarged.pdf\n",
      "==========\n",
      "2-th data is being processed. Target file is ./image\\test3.png\n",
      "test3\n",
      "Output file name is \n",
      "./finalOutput\\test3_enlarged.pdf\n",
      "==========\n",
      "3-th data is being processed. Target file is ./image\\test4.png\n",
      "test4\n",
      "Output file name is \n",
      "./finalOutput\\test4_enlarged.pdf\n",
      "==========\n",
      "Good job! All steps are finished!!\n",
      "==========\n"
     ]
    }
   ],
   "source": [
    "dir_path = './image/'\n",
    "png_data = glob.glob(os.path.join(dir_path,'*.png'))\n",
    "\n",
    "for i in range(len(png_data)):\n",
    "    print('==========')\n",
    "    print(str(i)+'-th data is being processed. Target file is '+png_data[i])\n",
    "    img = Image.open(png_data[0])\n",
    "    size = (round(img.width * fx), round(img.height * fy))\n",
    "    # imgEnlarged = img.resize(size)\n",
    "    a4inpt = (img2pdf.mm_to_pt(round(img.width * fx)),img2pdf.mm_to_pt(round(img.height * fy)))\n",
    "    layout_fun = img2pdf.get_layout_fun(a4inpt)\n",
    "    \n",
    "    basename = os.path.basename(png_data[i])\n",
    "    file_name = os.path.splitext(basename)[0]\n",
    "    print(file_name)\n",
    "    file_name_pdf_out = out_path+os.path.sep+file_name+'_enlarged.pdf'\n",
    "    \n",
    "    print('Output file name is ')\n",
    "    print(file_name_pdf_out)\n",
    "    \n",
    "    with open(file_name_pdf_out, \"wb\") as f:\n",
    "        f.write(img2pdf.convert(png_data[i],layout_fun=layout_fun))\n",
    "\n",
    "    #with open(file_name, \"wb\") as f: \n",
    "    #    try:\n",
    "    #        f.write(img2pdf.convert(png_data[i],layout_fun=layout_fun))\n",
    "    #    except:\n",
    "    #        f.write(img2pdf.convert('b'+png_data[i],layout_fun=layout_fun))\n",
    "\n",
    "print('==========')\n",
    "print('Good job! All steps are finished!!')\n",
    "print('==========')"
   ]
  },
  {
   "cell_type": "markdown",
   "id": "4a6e78bc",
   "metadata": {},
   "source": [
    "https://pynote.hatenablog.com/entry/pillow-resize"
   ]
  }
 ],
 "metadata": {
  "kernelspec": {
   "display_name": "Python 3 (ipykernel)",
   "language": "python",
   "name": "python3"
  },
  "language_info": {
   "codemirror_mode": {
    "name": "ipython",
    "version": 3
   },
   "file_extension": ".py",
   "mimetype": "text/x-python",
   "name": "python",
   "nbconvert_exporter": "python",
   "pygments_lexer": "ipython3",
   "version": "3.7.12"
  },
  "varInspector": {
   "cols": {
    "lenName": 16,
    "lenType": "20",
    "lenVar": "28"
   },
   "kernels_config": {
    "python": {
     "delete_cmd_postfix": "",
     "delete_cmd_prefix": "del ",
     "library": "var_list.py",
     "varRefreshCmd": "print(var_dic_list())"
    },
    "r": {
     "delete_cmd_postfix": ") ",
     "delete_cmd_prefix": "rm(",
     "library": "var_list.r",
     "varRefreshCmd": "cat(var_dic_list()) "
    }
   },
   "position": {
    "height": "467.833px",
    "left": "1336.67px",
    "right": "20px",
    "top": "120px",
    "width": "350px"
   },
   "types_to_exclude": [
    "module",
    "function",
    "builtin_function_or_method",
    "instance",
    "_Feature"
   ],
   "window_display": false
  }
 },
 "nbformat": 4,
 "nbformat_minor": 5
}
